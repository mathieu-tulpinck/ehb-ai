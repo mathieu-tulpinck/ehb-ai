{
 "cells": [
  {
   "cell_type": "code",
   "execution_count": null,
   "metadata": {},
   "outputs": [],
   "source": []
  }
 ],
 "metadata": {
  "kernelspec": {
   "display_name": "Python 3.8.10 ('.venv': venv)",
   "language": "python",
   "name": "python3"
  },
  "language_info": {
   "name": "python",
   "version": "3.8.10"
  },
  "orig_nbformat": 4,
  "vscode": {
   "interpreter": {
    "hash": "a166168c68f55598b01c42966d36055a72b05dd81029221af08ea37c30386052"
   }
  }
 },
 "nbformat": 4,
 "nbformat_minor": 2
}
