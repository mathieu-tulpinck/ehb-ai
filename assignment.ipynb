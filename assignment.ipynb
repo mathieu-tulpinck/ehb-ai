{
 "cells": [
  {
   "cell_type": "markdown",
   "metadata": {},
   "source": [
    "# Sources\n",
    "\n",
    "- https://lifewithdata.com/2022/03/13/how-to-remove-highly-correlated-features-from-a-dataset/\n",
    "- https://app.pluralsight.com/player?course=building-regression-models-scikit-learn&author=janani-ravi&name=1616b48f-65fd-4abd-b9fa-7a2560c9d5de&clip=3\n"
   ]
  },
  {
   "cell_type": "markdown",
   "metadata": {},
   "source": [
    "# Notation\n",
    "\n",
    "|General Notation | Description | Python (if applicable) |\n",
    "|---|---|---|\n",
    "| $a$ | scalar ||\n",
    "| $\\mathbf{a}$ | vector ||\n",
    "| $A$ | matrix ||\n",
    "| **Regression** | | | |\n",
    "|  $X$ | training example matrix | `X_train` |   \n",
    "|  $\\mathbf{y}$  | training example  targets | `y_train` |\n",
    "|  $\\mathbf{x}^{(i)}$| Features of $ith$ Training Example | `X[i]` |\n",
    "|  $\\mathbf{x}^{(i)}$, $y^{(i)}$ | $i{th}$ Training Example | `X[i]`, `y[i]`|\n",
    "| m | number of training examples | `m` |\n",
    "| n | number of features in each example | `n` |\n",
    "|  $\\mathbf{w}$  |  parameter: weight, | `w` |\n",
    "| $b$ | parameter: bias | `b` |     \n",
    "| $f_{\\mathbf{w},b}(\\mathbf{x}^{(i)})$ | The result of the model evaluation at $\\mathbf{x}^{(i)}$ parameterized by $\\mathbf{w},b$: $f_{\\mathbf{w},b}(\\mathbf{x}^{(i)}) = \\mathbf{w} \\cdot \\mathbf{x}^{(i)}+b$  | `f_wb` | "
   ]
  },
  {
   "cell_type": "markdown",
   "metadata": {},
   "source": [
    "# Dataset\n",
    "\n",
    "You are asked to predict a final grade of the math course based on the information we have about the student. The dataset is provided in the accompanying file 'student-mat.csv'. A full description of the data set can be found in the file 'metadata.txt'."
   ]
  },
  {
   "cell_type": "code",
   "execution_count": 15,
   "metadata": {},
   "outputs": [
    {
     "name": "stdout",
     "output_type": "stream",
     "text": [
      "failures     -0.360415\n",
      "age          -0.161579\n",
      "goout        -0.132791\n",
      "traveltime   -0.117142\n",
      "health       -0.061335\n",
      "Dalc         -0.054660\n",
      "Walc         -0.051939\n",
      "freetime      0.011307\n",
      "absences      0.034247\n",
      "famrel        0.051363\n",
      "studytime     0.097820\n",
      "Fedu          0.152457\n",
      "Medu          0.217147\n",
      "G1            0.801468\n",
      "G2            0.904868\n",
      "G3            1.000000\n",
      "Name: G3, dtype: float64\n",
      "X shape: (316, 57), X type:<class 'numpy.ndarray'>)\n",
      "y shape: (316,), y type:<class 'numpy.ndarray'>)\n"
     ]
    }
   ],
   "source": [
    "import numpy as np\n",
    "import pandas as pd\n",
    "import matplotlib.pyplot as pl\n",
    "%matplotlib inline\n",
    "from sklearn.model_selection import train_test_split\n",
    "\n",
    "# Read from csv.\n",
    "mathscores = pd.read_csv('./data/student-mat.csv', sep=';')\n",
    "# Features G1 and G2 are highly correlated to target and are therefore dropped from the dataset. The idea is that the information they contain are very similar and it would be redundant to include them.\n",
    "print(mathscores.corr()['G3'].sort_values())\n",
    "mathscores_without_G1_G2 = mathscores.drop(['G1', 'G2'], axis = 'columns')\n",
    "\n",
    "mathscores_one_hot_encoded = pd.get_dummies(mathscores_without_G1_G2, columns = ['school', 'sex', 'address', 'famsize', 'Pstatus', 'Mjob', 'Fjob', 'reason', 'guardian', 'schoolsup', 'famsup', 'paid', 'activities', 'nursery', 'higher', 'internet', 'romantic'])\n",
    "\n",
    "# 80% - 20% split for the training and testing sets. 316/395 = 0.8 \n",
    "# Assign train and test sets (in your experiments, you want to do cross-validation).\n",
    "X_train, X_test, y_train, y_test = train_test_split(mathscores_one_hot_encoded, mathscores_one_hot_encoded['G3'], test_size = 0.2, random_state = 42)\n",
    "\n",
    "X_train = X_train.to_numpy()\n",
    "X_test = X_test.to_numpy()\n",
    "y_train = y_train.to_numpy()\n",
    "y_test = y_test.to_numpy()\n",
    "\n",
    "print(f\"X shape: {X_train.shape}, X type:{type(X_train)})\")\n",
    "print(f\"y shape: {y_train.shape}, y type:{type(y_train)})\")\n",
    "\n",
    "features = mathscores_one_hot_encoded.columns.to_numpy()"
   ]
  },
  {
   "cell_type": "markdown",
   "metadata": {},
   "source": [
    "# Encoding and features scaling"
   ]
  },
  {
   "cell_type": "code",
   "execution_count": 16,
   "metadata": {},
   "outputs": [
    {
     "name": "stdout",
     "output_type": "stream",
     "text": [
      "<class 'pandas.core.frame.DataFrame'>\n",
      "RangeIndex: 395 entries, 0 to 394\n",
      "Data columns (total 57 columns):\n",
      " #   Column             Non-Null Count  Dtype\n",
      "---  ------             --------------  -----\n",
      " 0   age                395 non-null    int64\n",
      " 1   Medu               395 non-null    int64\n",
      " 2   Fedu               395 non-null    int64\n",
      " 3   traveltime         395 non-null    int64\n",
      " 4   studytime          395 non-null    int64\n",
      " 5   failures           395 non-null    int64\n",
      " 6   famrel             395 non-null    int64\n",
      " 7   freetime           395 non-null    int64\n",
      " 8   goout              395 non-null    int64\n",
      " 9   Dalc               395 non-null    int64\n",
      " 10  Walc               395 non-null    int64\n",
      " 11  health             395 non-null    int64\n",
      " 12  absences           395 non-null    int64\n",
      " 13  G3                 395 non-null    int64\n",
      " 14  school_GP          395 non-null    uint8\n",
      " 15  school_MS          395 non-null    uint8\n",
      " 16  sex_F              395 non-null    uint8\n",
      " 17  sex_M              395 non-null    uint8\n",
      " 18  address_R          395 non-null    uint8\n",
      " 19  address_U          395 non-null    uint8\n",
      " 20  famsize_GT3        395 non-null    uint8\n",
      " 21  famsize_LE3        395 non-null    uint8\n",
      " 22  Pstatus_A          395 non-null    uint8\n",
      " 23  Pstatus_T          395 non-null    uint8\n",
      " 24  Mjob_at_home       395 non-null    uint8\n",
      " 25  Mjob_health        395 non-null    uint8\n",
      " 26  Mjob_other         395 non-null    uint8\n",
      " 27  Mjob_services      395 non-null    uint8\n",
      " 28  Mjob_teacher       395 non-null    uint8\n",
      " 29  Fjob_at_home       395 non-null    uint8\n",
      " 30  Fjob_health        395 non-null    uint8\n",
      " 31  Fjob_other         395 non-null    uint8\n",
      " 32  Fjob_services      395 non-null    uint8\n",
      " 33  Fjob_teacher       395 non-null    uint8\n",
      " 34  reason_course      395 non-null    uint8\n",
      " 35  reason_home        395 non-null    uint8\n",
      " 36  reason_other       395 non-null    uint8\n",
      " 37  reason_reputation  395 non-null    uint8\n",
      " 38  guardian_father    395 non-null    uint8\n",
      " 39  guardian_mother    395 non-null    uint8\n",
      " 40  guardian_other     395 non-null    uint8\n",
      " 41  schoolsup_no       395 non-null    uint8\n",
      " 42  schoolsup_yes      395 non-null    uint8\n",
      " 43  famsup_no          395 non-null    uint8\n",
      " 44  famsup_yes         395 non-null    uint8\n",
      " 45  paid_no            395 non-null    uint8\n",
      " 46  paid_yes           395 non-null    uint8\n",
      " 47  activities_no      395 non-null    uint8\n",
      " 48  activities_yes     395 non-null    uint8\n",
      " 49  nursery_no         395 non-null    uint8\n",
      " 50  nursery_yes        395 non-null    uint8\n",
      " 51  higher_no          395 non-null    uint8\n",
      " 52  higher_yes         395 non-null    uint8\n",
      " 53  internet_no        395 non-null    uint8\n",
      " 54  internet_yes       395 non-null    uint8\n",
      " 55  romantic_no        395 non-null    uint8\n",
      " 56  romantic_yes       395 non-null    uint8\n",
      "dtypes: int64(14), uint8(43)\n",
      "memory usage: 59.9 KB\n"
     ]
    }
   ],
   "source": [
    "# This method prints information about a DataFrame including the index dtype and columns, non-null values and memory usage.\n",
    "mathscores_one_hot_encoded[pd.Series(features)].info()"
   ]
  },
  {
   "cell_type": "code",
   "execution_count": null,
   "metadata": {},
   "outputs": [],
   "source": []
  },
  {
   "cell_type": "code",
   "execution_count": 17,
   "metadata": {},
   "outputs": [
    {
     "name": "stdout",
     "output_type": "stream",
     "text": [
      "Peak to peak range by column in raw X: [ 7  4  4  3  3  3  4  4  4  4  4  4 75 20  1  1  1  1  1  1  1  1  1  1\n",
      "  1  1  1  1  1  1  1  1  1  1  1  1  1  1  1  1  1  1  1  1  1  1  1  1\n",
      "  1  1  1  1  1  1  1  1  1]\n"
     ]
    }
   ],
   "source": [
    "print(f\"Peak to peak range by column in raw X: {np.ptp(X_train,axis=0)}\") "
   ]
  },
  {
   "cell_type": "code",
   "execution_count": 18,
   "metadata": {},
   "outputs": [
    {
     "name": "stdout",
     "output_type": "stream",
     "text": [
      "count    395.000000\n",
      "mean      10.415190\n",
      "std        4.581443\n",
      "min        0.000000\n",
      "25%        8.000000\n",
      "50%       11.000000\n",
      "75%       14.000000\n",
      "max       20.000000\n",
      "Name: G3, dtype: float64\n"
     ]
    }
   ],
   "source": [
    "# Describe target.\n",
    "print(mathscores['G3'].describe())"
   ]
  }
 ],
 "metadata": {
  "kernelspec": {
   "display_name": "Python 3.8.10 ('.venv': venv)",
   "language": "python",
   "name": "python3"
  },
  "language_info": {
   "codemirror_mode": {
    "name": "ipython",
    "version": 3
   },
   "file_extension": ".py",
   "mimetype": "text/x-python",
   "name": "python",
   "nbconvert_exporter": "python",
   "pygments_lexer": "ipython3",
   "version": "3.8.10"
  },
  "orig_nbformat": 4,
  "vscode": {
   "interpreter": {
    "hash": "a166168c68f55598b01c42966d36055a72b05dd81029221af08ea37c30386052"
   }
  }
 },
 "nbformat": 4,
 "nbformat_minor": 2
}
